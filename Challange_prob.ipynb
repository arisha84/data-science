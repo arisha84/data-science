{
 "cells": [
  {
   "cell_type": "code",
   "execution_count": 1,
   "metadata": {
    "collapsed": false
   },
   "outputs": [],
   "source": [
    "import sys\n",
    "import os\n",
    "import pandas as pd\n",
    "import re\n",
    "from bs4 import BeautifulSoup\n",
    "import numpy as np\n",
    "import pandas as pd\n",
    "import matplotlib.pyplot as plt\n",
    "import urllib\n",
    "from sklearn.linear_model import LinearRegression\n",
    "%matplotlib inline\n"
   ]
  },
  {
   "cell_type": "markdown",
   "metadata": {},
   "source": [
    "# Data Parsing"
   ]
  },
  {
   "cell_type": "code",
   "execution_count": 2,
   "metadata": {
    "collapsed": false
   },
   "outputs": [
    {
     "data": {
      "text/plain": [
       "'\\nThis Page Contains GDP per Hour Worked by country\\n'"
      ]
     },
     "execution_count": 2,
     "metadata": {},
     "output_type": "execute_result"
    }
   ],
   "source": [
    "# Url with Coffee Consumption Data\n",
    "coffee_url = 'http://api.viglink.com/api/click?format=go&jsonp=vglnk_14273061108539&key=f6c9fb1ffe086e69e7ff5c6a722caf4c&libId=i7p179n40100pm98000DAdwrfhsuh&loc=http%3A%2F%2Fbackreaction.blogspot.fr%2F2013%2F08%2Fresearchers-and-coffee-consumption.html&v=1&out=http%3A%2F%2Fprime-spot.de%2Fresearcherscoffee.xlsx&ref=http%3A%2F%2Ffreakonometrics.hypotheses.org%2F16010&title=Backreaction%3A%20Researchers%20and%20coffee%20consumption&txt=you%20can%20download%20the%20excel%20sheet%20here'\n",
    "\"\"\"\n",
    "This Data contains features:\n",
    "['Country', 'Researchers per million', 'Coffee Consumption']\n",
    "Gives the size of the group and average consumption of coffee by country\n",
    "\"\"\"\n",
    "\n",
    "wiki_url = 'http://en.wikipedia.org/wiki/List_of_countries_by_GDP_(PPP)_per_hour_worked'\n",
    "\"\"\"\n",
    "This Page Contains GDP per Hour Worked by country\n",
    "\"\"\""
   ]
  },
  {
   "cell_type": "code",
   "execution_count": 3,
   "metadata": {
    "collapsed": false
   },
   "outputs": [],
   "source": [
    "# Parse wiki_url into panadas DataFrame\n",
    "\n",
    "from urllib.request import urlopen\n",
    "page = urlopen(wiki_url)\n",
    "soup = BeautifulSoup(page.read())\n",
    "\n",
    "table = soup.find(\"table\", { \"class\" : \"sortable wikitable\"})\n",
    "Ranks = []\n",
    "Countries = []\n",
    "GDPS = []\n",
    "\n",
    "for row in table.findAll(\"tr\"):\n",
    "    cells = row.findAll(\"td\")\n",
    "    #For each \"tr\", assign each \"td\" to a variable.\n",
    "    if len(cells) == 3:\n",
    "        Ranks.append (cells[0].find(text=True))                \n",
    "        Countries.append(cells[1].find(\"a\", text=True).find(text=True))\n",
    "        GDPS.append(cells[2].find(text=True)) \n",
    "        \n",
    "table = {'Country' :  Countries,\n",
    "         'GDP' : GDPS}\n",
    "\n",
    "df_wiki = pd.DataFrame(table, columns=['Country','GDP'])\n",
    "df_wiki = df_wiki.convert_objects(convert_numeric='True')\n",
    "       "
   ]
  },
  {
   "cell_type": "code",
   "execution_count": 4,
   "metadata": {
    "collapsed": true
   },
   "outputs": [],
   "source": [
    "# Parse coffee xml\n",
    "import xlrd\n",
    "\n",
    "coffe_page = urlopen(coffee_url)\n",
    "coffe_soup = BeautifulSoup(page.read())\n",
    "\n",
    "workbook = xlrd.open_workbook('researcherscoffee.xlsx')\n",
    "worksheet = workbook.sheet_by_name('Sheet1')\n",
    "num_rows = worksheet.nrows - 1\n",
    "curr_row = 1\n",
    "countries_f = []\n",
    "rpm = []\n",
    "coffee_cons =[]\n",
    "while curr_row < num_rows:\n",
    "    curr_row += 1\n",
    "    row = worksheet.row(curr_row)\n",
    "    countries_f.append(row[0].value)\n",
    "    rpm.append(row[1].value)\n",
    "    coffee_cons.append(row[2].value)\n",
    "    \n",
    "table_xml = {'countries_f' : countries_f,\n",
    "          'rpm' : rpm,\n",
    "          'coffee_cons' : coffee_cons}\n",
    "df_xml = pd.DataFrame(table_xml, columns=['countries_f', 'rpm', 'coffee_cons'])\n",
    "df_xml = df_xml[df_xml.coffee_cons != '']\n",
    "df_xml = df_xml.convert_objects(convert_numeric='True')\n",
    "\n"
   ]
  },
  {
   "cell_type": "markdown",
   "metadata": {
    "collapsed": false
   },
   "source": [
    "# data analysis"
   ]
  },
  {
   "cell_type": "markdown",
   "metadata": {},
   "source": [
    "one issue we can see here is that 53 countries have rpm (researchers per million)  < 360\n",
    "In a population of 1 million we need at least 384 samples to be able to have a confidence level of 95% in the results (with margin error of 5%) \n",
    "As we can see, in many countries the sample size is much smaller, thus the accuracy of the results (the coffee consumption number)  in those countries is questionable. "
   ]
  },
  {
   "cell_type": "code",
   "execution_count": 5,
   "metadata": {
    "collapsed": false
   },
   "outputs": [
    {
     "data": {
      "text/plain": [
       "countries_f    53\n",
       "rpm            53\n",
       "coffee_cons    53\n",
       "dtype: int64"
      ]
     },
     "execution_count": 5,
     "metadata": {},
     "output_type": "execute_result"
    }
   ],
   "source": [
    "small_rpm = df_xml[df_xml['rpm'] < 384]\n",
    "small_rpm.count()"
   ]
  },
  {
   "cell_type": "code",
   "execution_count": 6,
   "metadata": {
    "collapsed": false
   },
   "outputs": [
    {
     "data": {
      "text/plain": [
       "<matplotlib.axes._subplots.AxesSubplot at 0x10abae210>"
      ]
     },
     "execution_count": 6,
     "metadata": {},
     "output_type": "execute_result"
    },
    {
     "data": {
      "image/png": "[encoded data removed]",
      "text/plain": [
       "<matplotlib.figure.Figure at 0x103c40ad0>"
      ]
     },
     "metadata": {},
     "output_type": "display_data"
    }
   ],
   "source": [
    "df_xml['rpm'].hist(bins=25)"
   ]
  },
  {
   "cell_type": "markdown",
   "metadata": {},
   "source": [
    "## combined data "
   ]
  },
  {
   "cell_type": "code",
   "execution_count": 7,
   "metadata": {
    "collapsed": false
   },
   "outputs": [
    {
     "data": {
      "text/html": [
       "<div style=\"max-height:1000px;max-width:1500px;overflow:auto;\">\n",
       "<table border=\"1\" class=\"dataframe\">\n",
       "  <thead>\n",
       "    <tr style=\"text-align: right;\">\n",
       "      <th></th>\n",
       "      <th>Country</th>\n",
       "      <th>GDP</th>\n",
       "      <th>rpm</th>\n",
       "      <th>coffee_cons</th>\n",
       "    </tr>\n",
       "  </thead>\n",
       "  <tbody>\n",
       "    <tr>\n",
       "      <th>0</th>\n",
       "      <td>      Norway</td>\n",
       "      <td> 75.18</td>\n",
       "      <td> 5468</td>\n",
       "      <td> 9.9</td>\n",
       "    </tr>\n",
       "    <tr>\n",
       "      <th>1</th>\n",
       "      <td>  Luxembourg</td>\n",
       "      <td> 73.22</td>\n",
       "      <td> 4748</td>\n",
       "      <td> 6.8</td>\n",
       "    </tr>\n",
       "    <tr>\n",
       "      <th>2</th>\n",
       "      <td>     Belgium</td>\n",
       "      <td> 60.98</td>\n",
       "      <td> 3435</td>\n",
       "      <td> 6.8</td>\n",
       "    </tr>\n",
       "    <tr>\n",
       "      <th>3</th>\n",
       "      <td> Netherlands</td>\n",
       "      <td> 60.06</td>\n",
       "      <td> 3089</td>\n",
       "      <td> 8.4</td>\n",
       "    </tr>\n",
       "    <tr>\n",
       "      <th>4</th>\n",
       "      <td>      France</td>\n",
       "      <td> 59.24</td>\n",
       "      <td> 3496</td>\n",
       "      <td> 5.4</td>\n",
       "    </tr>\n",
       "  </tbody>\n",
       "</table>\n",
       "</div>"
      ],
      "text/plain": [
       "       Country    GDP   rpm  coffee_cons\n",
       "0       Norway  75.18  5468          9.9\n",
       "1   Luxembourg  73.22  4748          6.8\n",
       "2      Belgium  60.98  3435          6.8\n",
       "3  Netherlands  60.06  3089          8.4\n",
       "4       France  59.24  3496          5.4"
      ]
     },
     "execution_count": 7,
     "metadata": {},
     "output_type": "execute_result"
    }
   ],
   "source": [
    "combined = pd.merge(df_wiki, df_xml,left_on='Country', right_on='countries_f', how='inner')\n",
    "combined = combined[['Country','GDP','rpm','coffee_cons']]\n",
    "combined.head()"
   ]
  },
  {
   "cell_type": "markdown",
   "metadata": {},
   "source": [
    "###  lets remove from the table the countries with rpm < 300, which as we said may be unreliable"
   ]
  },
  {
   "cell_type": "code",
   "execution_count": 35,
   "metadata": {
    "collapsed": false
   },
   "outputs": [],
   "source": [
    "combined = combined[combined['rpm'] > 300]"
   ]
  },
  {
   "cell_type": "code",
   "execution_count": 36,
   "metadata": {
    "collapsed": false
   },
   "outputs": [
    {
     "data": {
      "text/html": [
       "<div style=\"max-height:1000px;max-width:1500px;overflow:auto;\">\n",
       "<table border=\"1\" class=\"dataframe\">\n",
       "  <thead>\n",
       "    <tr style=\"text-align: right;\">\n",
       "      <th></th>\n",
       "      <th>GDP</th>\n",
       "      <th>rpm</th>\n",
       "      <th>coffee_cons</th>\n",
       "    </tr>\n",
       "  </thead>\n",
       "  <tbody>\n",
       "    <tr>\n",
       "      <th>GDP</th>\n",
       "      <td> 1.000000</td>\n",
       "      <td> 0.730547</td>\n",
       "      <td> 0.716953</td>\n",
       "    </tr>\n",
       "    <tr>\n",
       "      <th>rpm</th>\n",
       "      <td> 0.730547</td>\n",
       "      <td> 1.000000</td>\n",
       "      <td> 0.805556</td>\n",
       "    </tr>\n",
       "    <tr>\n",
       "      <th>coffee_cons</th>\n",
       "      <td> 0.716953</td>\n",
       "      <td> 0.805556</td>\n",
       "      <td> 1.000000</td>\n",
       "    </tr>\n",
       "  </tbody>\n",
       "</table>\n",
       "</div>"
      ],
      "text/plain": [
       "                  GDP       rpm  coffee_cons\n",
       "GDP          1.000000  0.730547     0.716953\n",
       "rpm          0.730547  1.000000     0.805556\n",
       "coffee_cons  0.716953  0.805556     1.000000"
      ]
     },
     "execution_count": 36,
     "metadata": {},
     "output_type": "execute_result"
    }
   ],
   "source": [
    "combined.corr()"
   ]
  },
  {
   "cell_type": "code",
   "execution_count": 41,
   "metadata": {
    "collapsed": false
   },
   "outputs": [],
   "source": [
    "X = combined['GDP'].values\n",
    "Y = combined['coffee_cons'].values\n",
    "X = X.reshape(43,1)"
   ]
  },
  {
   "cell_type": "code",
   "execution_count": 42,
   "metadata": {
    "collapsed": false
   },
   "outputs": [],
   "source": [
    "model = LinearRegression()\n",
    "model.fit(X,Y)\n",
    "y_line = model.predict(X)"
   ]
  },
  {
   "cell_type": "code",
   "execution_count": 43,
   "metadata": {
    "collapsed": false
   },
   "outputs": [
    {
     "data": {
      "text/plain": [
       "<matplotlib.text.Text at 0x10c0a8050>"
      ]
     },
     "execution_count": 43,
     "metadata": {},
     "output_type": "execute_result"
    },
    {
     "data": {
      "image/png": "[encoded data removed]",
      "text/plain": [
       "<matplotlib.figure.Figure at 0x10c0582d0>"
      ]
     },
     "metadata": {},
     "output_type": "display_data"
    }
   ],
   "source": [
    "plt.plot(X, Y, 'o')\n",
    "plt.plot(X, y_line)\n",
    "plt.xlabel('rpm')\n",
    "plt.ylabel('coffee_cons')\n"
   ]
  },
  {
   "cell_type": "code",
   "execution_count": 44,
   "metadata": {
    "collapsed": false
   },
   "outputs": [
    {
     "data": {
      "text/plain": [
       "0.51402219437781094"
      ]
     },
     "execution_count": 44,
     "metadata": {},
     "output_type": "execute_result"
    }
   ],
   "source": [
    "model.score(X,Y)"
   ]
  },
  {
   "cell_type": "code",
   "execution_count": 45,
   "metadata": {
    "collapsed": true
   },
   "outputs": [],
   "source": [
    "import statsmodels.api as sm\n",
    "X = sm.add_constant(X)\n",
    "model = sm.OLS(Y,X)\n"
   ]
  },
  {
   "cell_type": "code",
   "execution_count": 46,
   "metadata": {
    "collapsed": true
   },
   "outputs": [],
   "source": [
    "results = model.fit()"
   ]
  },
  {
   "cell_type": "code",
   "execution_count": 47,
   "metadata": {
    "collapsed": false
   },
   "outputs": [
    {
     "name": "stdout",
     "output_type": "stream",
     "text": [
      "                            OLS Regression Results                            \n",
      "==============================================================================\n",
      "Dep. Variable:                      y   R-squared:                       0.514\n",
      "Model:                            OLS   Adj. R-squared:                  0.502\n",
      "Method:                 Least Squares   F-statistic:                     43.37\n",
      "Date:                Sun, 10 May 2015   Prob (F-statistic):           6.37e-08\n",
      "Time:                        12:55:14   Log-Likelihood:                -90.119\n",
      "No. Observations:                  43   AIC:                             184.2\n",
      "Df Residuals:                      41   BIC:                             187.8\n",
      "Df Model:                           1                                         \n",
      "Covariance Type:            nonrobust                                         \n",
      "==============================================================================\n",
      "                 coef    std err          t      P>|t|      [95.0% Conf. Int.]\n",
      "------------------------------------------------------------------------------\n",
      "const          0.2664      0.708      0.376      0.709        -1.164     1.697\n",
      "x1             0.1129      0.017      6.585      0.000         0.078     0.148\n",
      "==============================================================================\n",
      "Omnibus:                        5.298   Durbin-Watson:                   1.992\n",
      "Prob(Omnibus):                  0.071   Jarque-Bera (JB):                4.754\n",
      "Skew:                           0.429   Prob(JB):                       0.0928\n",
      "Kurtosis:                       4.385   Cond. No.                         95.3\n",
      "==============================================================================\n",
      "\n",
      "Warnings:\n",
      "[1] Standard Errors assume that the covariance matrix of the errors is correctly specified.\n"
     ]
    }
   ],
   "source": [
    "print (results.summary())"
   ]
  },
  {
   "cell_type": "markdown",
   "metadata": {},
   "source": [
    "## conclusion \n",
    "From the combined data we can see that there is a positive correlation between a country GDP\n",
    "and its coffee consumption. \n",
    "We can see this correlation from both the graph, and the P value of the x1 coefficient, which is 0.\n",
    "\n"
   ]
  },
  {
   "cell_type": "code",
   "execution_count": null,
   "metadata": {
    "collapsed": true
   },
   "outputs": [],
   "source": []
  }
 ],
 "metadata": {
  "kernelspec": {
   "display_name": "Python 3",
   "language": "python",
   "name": "python3"
  },
  "language_info": {
   "codemirror_mode": {
    "name": "ipython",
    "version": 3
   },
   "file_extension": ".py",
   "mimetype": "text/x-python",
   "name": "python",
   "nbconvert_exporter": "python",
   "pygments_lexer": "ipython3",
   "version": "3.3.5"
  }
 },
 "nbformat": 4,
 "nbformat_minor": 0
}
